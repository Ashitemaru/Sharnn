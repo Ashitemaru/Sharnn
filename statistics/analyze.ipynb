{
 "cells": [
  {
   "cell_type": "code",
   "execution_count": 15,
   "metadata": {},
   "outputs": [
    {
     "data": {
      "image/png": "[encoded data removed]",
      "text/plain": [
       "<Figure size 432x288 with 1 Axes>"
      ]
     },
     "metadata": {
      "needs_background": "light"
     },
     "output_type": "display_data"
    }
   ],
   "source": [
    "with open(\"diffusion.out\", \"r\" , encoding=\"ascii\") as f:\n",
    "    lst = f.readlines()\n",
    "\n",
    "lst = list(filter(lambda x: len(x) < 10 and x != '\\n', lst))\n",
    "lst = list(filter(int, lst))\n",
    "# lst = list(map(lambda x: x[:-1].split(\",\"), lst))\n",
    "# lst = list(map(lambda x: int(x[0]) * 8 + int(x[1]), lst))\n",
    "\n",
    "from matplotlib import pyplot as plt\n",
    "import numpy as np\n",
    "lst = np.array(lst)\n",
    "print(lst.std(ddof=True), lst.min(), lst.max(), lst.mean(), lst.mean() / 80)\n",
    "# print(lst)\n",
    "plt.hist(lst, bins=10)\n",
    "plt.show()"
   ]
  },
  {
   "cell_type": "code",
   "execution_count": null,
   "metadata": {},
   "outputs": [],
   "source": []
  }
 ],
 "metadata": {
  "interpreter": {
   "hash": "ad2bdc8ecc057115af97d19610ffacc2b4e99fae6737bb82f5d7fb13d2f2c186"
  },
  "kernelspec": {
   "display_name": "Python 3.8.8 ('base')",
   "language": "python",
   "name": "python3"
  },
  "language_info": {
   "codemirror_mode": {
    "name": "ipython",
    "version": 3
   },
   "file_extension": ".py",
   "mimetype": "text/x-python",
   "name": "python",
   "nbconvert_exporter": "python",
   "pygments_lexer": "ipython3",
   "version": "3.8.8"
  },
  "orig_nbformat": 4
 },
 "nbformat": 4,
 "nbformat_minor": 2
}
